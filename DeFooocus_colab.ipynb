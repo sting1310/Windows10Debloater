{
  "cells": [
    {
      "cell_type": "code",
      "source": [
        "#@title DeFooocus\n",
        "#@markdown **Launch the interface DeFocus (Fooocus fork)** | You need to connect with T4/A100/V100\n",
        "#@markdown ****\n",
        "#@markdown *Attention!* When working in the interface with the FaceSwap and CPDS controlnet, crashes are possible; it is also recommended to work in *Extreme speed* mode for additional stability. When working with the ImagePrompt and PyraCanny controls, 85% of the work will be stable.\n",
        "#@markdown ****\n",
        "\n",
        "# Upgrade system and install dependencies\n",
        "!apt-get update -y\n",
        "!apt-get install -y python3.10 python3.10-venv python3.10-dev git\n",
        "\n",
        "print(\"[DeFooocus] Preparing ...\")\n",
        "\n",
        "theme = \"dark\" #@param [\"dark\", \"light\"]\n",
        "preset = \"realistic\" #@param [\"deafult\", \"realistic\", \"anime\", \"lcm\", \"sai\", \"turbo\", \"lighting\", \"hypersd\", \"playground_v2.5\", \"dpo\", \"spo\", \"sd1.5\"]\n",
        "advenced_args = \"--share --attention-split --always-high-vram --disable-offload-from-vram --all-in-fp16\" #@param {type: \"string\"}\n",
        "\n",
        "if preset != \"deafult\":\n",
        "  args = f\"{advenced_args} --theme {theme} --preset {preset}\"\n",
        "else:\n",
        "  args = f\"{advenced_args} --theme {theme}\"\n",
        "\n",
        "# Set up and activate virtual environment\n",
        "!python3.10 -m venv DeFooocus_env\n",
        "!source DeFooocus_env/bin/activate\n",
        "\n",
        "# Install pygit2 and other required packages\n",
        "!pip install --upgrade pip\n",
        "!pip install pygit2==1.12.2\n",
        "\n",
        "# Clone the repository\n",
        "!rm -rf /content/DeFooocus\n",
        "!git clone https://github.com/ehristoforu/DeFooocus.git /content/DeFooocus\n",
        "\n",
        "# Install dependencies from the repository\n",
        "%cd /content/DeFooocus\n",
        "!pip install -q -r requirements_versions.txt\n",
        "\n",
        "# Run the main entry point of DeFooocus\n",
        "print(\"[DeFooocus] Starting ...\")\n",
        "!python entry_with_update.py $args\n"
      ],
      "metadata": {
        "id": "qXQjk_-0YEgs",
        "outputId": "c7eb8512-3bcd-46d9-81b9-cff979311f7f",
        "colab": {
          "base_uri": "https://localhost:8080/"
        }
      },
      "execution_count": 5,
      "outputs": [
        {
          "output_type": "stream",
          "name": "stdout",
          "text": [
            "/bin/bash: line 1: apt-get: command not found\n",
            "/bin/bash: line 1: apt-get: command not found\n",
            "[DeFooocus] Preparing ...\n",
            "Requirement already satisfied: pip in ./my_env/lib/python3.10/site-packages (22.0.2)\n",
            "Collecting pip\n",
            "  Downloading pip-24.3.1-py3-none-any.whl (1.8 MB)\n",
            "\u001b[2K     \u001b[90m━━━━━━━━━━━━━━━━━━━━━━━━━━━━━━━━━━━━━━━━\u001b[0m \u001b[32m1.8/1.8 MB\u001b[0m \u001b[31m10.7 MB/s\u001b[0m eta \u001b[36m0:00:00\u001b[0m\n",
            "\u001b[?25hInstalling collected packages: pip\n",
            "  Attempting uninstall: pip\n",
            "    Found existing installation: pip 22.0.2\n",
            "    Uninstalling pip-22.0.2:\n",
            "      Successfully uninstalled pip-22.0.2\n",
            "Successfully installed pip-24.3.1\n",
            "Requirement already satisfied: pygit2==1.12.2 in ./my_env/lib/python3.10/site-packages (1.12.2)\n",
            "Requirement already satisfied: cffi>=1.9.1 in ./my_env/lib/python3.10/site-packages (from pygit2==1.12.2) (1.17.1)\n",
            "Requirement already satisfied: pycparser in ./my_env/lib/python3.10/site-packages (from cffi>=1.9.1->pygit2==1.12.2) (2.22)\n",
            "/bin/bash: line 1: rm: command not found\n",
            "/bin/bash: line 1: git: command not found\n",
            "[Errno 2] No such file or directory: '/content/DeFooocus'\n",
            "/content\n",
            "\u001b[31mERROR: Could not open requirements file: [Errno 2] No such file or directory: 'requirements_versions.txt'\u001b[0m\u001b[31m\n",
            "\u001b[0m[DeFooocus] Starting ...\n",
            "python: can't open file '/content/entry_with_update.py': [Errno 2] No such file or directory\n"
          ]
        }
      ]
    },
    {
      "cell_type": "code",
      "source": [
        "# Cell 8: DeFocus Configuration and Launch\n",
        "#@title DeFooocus\n",
        "#@markdown **Launch the interface DeFocus (Fooocus fork)** | You need to connect with T4/A100/V100\n",
        "#@markdown ****\n",
        "#@markdown *Attention!* When working in the interface with the FaceSwap and CPDS controlnet, crashes are possible; it is also recommended to work in *Extreme speed* mode for additional stability. When working with the ImagePrompt and PyraCanny controls, 85% of the work will be stable.\n",
        "#@markdown ****\n",
        "\n",
        "print(\"[DeFooocus] Preparing ...\")\n",
        "\n",
        "theme = \"dark\" #@param [\"dark\", \"light\"]\n",
        "preset = \"realistic\" #@param [\"deafult\", \"realistic\", \"anime\", \"lcm\", \"sai\", \"turbo\", \"lighting\", \"hypersd\", \"playground_v2.5\", \"dpo\", \"spo\", \"sd1.5\"]\n",
        "advenced_args = \"--share --attention-split --always-high-vram --disable-offload-from-vram --all-in-fp16\" #@param {type: \"string\"}\n",
        "\n",
        "if preset != \"deafult\":\n",
        "  args = f\"{advenced_args} --theme {theme} --preset {preset}\"\n",
        "else:\n",
        "  args = f\"{advenced_args} --theme {theme}\"\n",
        "\n",
        "print(\"[DeFooocus] Starting ...\")\n",
        "!python /content/DeFooocus/entry_with_update.py $args # Run with full path"
      ],
      "metadata": {
        "id": "eOyP56DNNUzr",
        "outputId": "7ec62823-cbf0-4eb1-f711-8b2b15325bd5",
        "colab": {
          "base_uri": "https://localhost:8080/"
        }
      },
      "execution_count": 5,
      "outputs": [
        {
          "output_type": "stream",
          "name": "stdout",
          "text": [
            "[DeFooocus] Preparing ...\n",
            "[DeFooocus] Starting ...\n",
            "python: can't open file '/content/DeFooocus/entry_with_update.py': [Errno 2] No such file or directory\n"
          ]
        }
      ]
    }
  ],
  "metadata": {
    "accelerator": "GPU",
    "colab": {
      "gpuType": "T4",
      "provenance": []
    },
    "kernelspec": {
      "display_name": "Python 3",
      "name": "python3"
    },
    "language_info": {
      "name": "python"
    }
  },
  "nbformat": 4,
  "nbformat_minor": 0
}